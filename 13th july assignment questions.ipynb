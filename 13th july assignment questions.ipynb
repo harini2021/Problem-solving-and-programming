{
 "cells": [
  {
   "cell_type": "code",
   "execution_count": null,
   "metadata": {},
   "outputs": [],
   "source": [
    "#spiring square with pencolor as red\n",
    "import turtle as t\n",
    "a=t.Turtle()\n",
    "a.pencolor('red')\n",
    "for i in range(250):\n",
    "    a.forward(i)\n",
    "    a.right(91)\n",
    "t.done()"
   ]
  },
  {
   "cell_type": "code",
   "execution_count": 3,
   "metadata": {},
   "outputs": [
    {
     "data": {
      "text/plain": [
       "9"
      ]
     },
     "execution_count": 3,
     "metadata": {},
     "output_type": "execute_result"
    }
   ],
   "source": [
    "#Program to print the large digit from the given number\n",
    "def largedigit(n):\n",
    "    max=0\n",
    "    while n!=0:\n",
    "        r=n%10\n",
    "        if(max<r):\n",
    "            max=r\n",
    "        n=n//10\n",
    "    return max\n",
    "largedigit(198765)\n",
    "        "
   ]
  },
  {
   "cell_type": "code",
   "execution_count": 7,
   "metadata": {},
   "outputs": [
    {
     "name": "stdout",
     "output_type": "stream",
     "text": [
      "9\n",
      "9\n"
     ]
    }
   ],
   "source": [
    "#to print palindrome count btw 1-10 and 11-20\n",
    "#function to return the count of palindrome between two limits\n",
    "def pali(n):\n",
    "    a=n\n",
    "    sum=0\n",
    "    while n!=0:\n",
    "        r=n%10\n",
    "        sum=sum*10+r\n",
    "        n=n//10\n",
    "    if(a==sum):\n",
    "        return True\n",
    "    else:\n",
    "        return False\n",
    "    return\n",
    "def cntpali(lb,ub):\n",
    "    cnt=0\n",
    "    while(lb!=ub):\n",
    "        if(pali(lb)==True):\n",
    "            cnt=cnt+1\n",
    "        lb=lb+1\n",
    "    return cnt\n",
    "print(cntpali(1,10))\n",
    "print(cntpali(11,100))    "
   ]
  },
  {
   "cell_type": "code",
   "execution_count": null,
   "metadata": {},
   "outputs": [],
   "source": []
  }
 ],
 "metadata": {
  "kernelspec": {
   "display_name": "Python 3",
   "language": "python",
   "name": "python3"
  },
  "language_info": {
   "codemirror_mode": {
    "name": "ipython",
    "version": 3
   },
   "file_extension": ".py",
   "mimetype": "text/x-python",
   "name": "python",
   "nbconvert_exporter": "python",
   "pygments_lexer": "ipython3",
   "version": "3.7.3"
  }
 },
 "nbformat": 4,
 "nbformat_minor": 2
}
