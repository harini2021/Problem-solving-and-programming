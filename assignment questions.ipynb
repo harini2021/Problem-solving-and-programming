{
 "cells": [
  {
   "cell_type": "code",
   "execution_count": 2,
   "metadata": {},
   "outputs": [
    {
     "name": "stdout",
     "output_type": "stream",
     "text": [
      "3 2 1 1 0 "
     ]
    }
   ],
   "source": [
    "#print the fibinocci series in reverse order\n",
    "def fibinocci(c):\n",
    "    a=[0]*n\n",
    "    a[0]=0\n",
    "    a[1]=1\n",
    "    for i in range (2,c):\n",
    "        a[i]=a[i-2]+a[i-1]\n",
    "    for i in range(n-1,-1,-1):\n",
    "        print(a[i],end=\" \")\n",
    "        \n",
    "    return\n",
    "n=5\n",
    "fibinocci(5)\n",
    "        \n",
    "    \n",
    "        \n",
    "        \n",
    "        \n",
    "    "
   ]
  },
  {
   "cell_type": "code",
   "execution_count": 14,
   "metadata": {},
   "outputs": [
    {
     "name": "stdout",
     "output_type": "stream",
     "text": [
      "1 3 9 27 81 "
     ]
    }
   ],
   "source": [
    "#Series generation : 1,3,9,27,81......\n",
    "def seriesgen(n):\n",
    "    li=[]\n",
    "    for i in range (n):\n",
    "        c=3**i\n",
    "        print(c,end=\" \")\n",
    "    return \n",
    "n=5\n",
    "seriesgen(n)\n",
    "        \n",
    "   \n",
    "        "
   ]
  },
  {
   "cell_type": "code",
   "execution_count": 15,
   "metadata": {},
   "outputs": [
    {
     "name": "stdout",
     "output_type": "stream",
     "text": [
      "1 2 4 8 16 32 64 "
     ]
    }
   ],
   "source": [
    "#series generation : 1,2,4,8,16,32,64,128,256,........\n",
    "def seriesgen2(n):\n",
    "    for i in range (n):\n",
    "        a=2**i\n",
    "        print(a,end=\" \")\n",
    "    return\n",
    "n=7\n",
    "seriesgen2(n)\n",
    "        \n",
    "    "
   ]
  },
  {
   "cell_type": "code",
   "execution_count": 47,
   "metadata": {},
   "outputs": [
    {
     "name": "stdout",
     "output_type": "stream",
     "text": [
      "1 9 17 33 49 73 97 "
     ]
    },
    {
     "data": {
      "text/plain": [
       "97"
      ]
     },
     "execution_count": 47,
     "metadata": {},
     "output_type": "execute_result"
    }
   ],
   "source": [
    "import math\n",
    "def seriesgen3(n):\n",
    "    s=1\n",
    "    i=2\n",
    "    while i<=n+1:\n",
    "        a=math.ceil(i/2)\n",
    "        s=s+8*(a-1)\n",
    "        print(s,end=\" \")\n",
    "        i=i+1\n",
    "    return s\n",
    "seriesgen3(7)\n",
    "\n",
    "        \n",
    "        \n",
    "        "
   ]
  },
  {
   "cell_type": "code",
   "execution_count": null,
   "metadata": {},
   "outputs": [],
   "source": []
  },
  {
   "cell_type": "code",
   "execution_count": null,
   "metadata": {},
   "outputs": [],
   "source": []
  }
 ],
 "metadata": {
  "kernelspec": {
   "display_name": "Python 3",
   "language": "python",
   "name": "python3"
  },
  "language_info": {
   "codemirror_mode": {
    "name": "ipython",
    "version": 3
   },
   "file_extension": ".py",
   "mimetype": "text/x-python",
   "name": "python",
   "nbconvert_exporter": "python",
   "pygments_lexer": "ipython3",
   "version": "3.7.3"
  }
 },
 "nbformat": 4,
 "nbformat_minor": 2
}
